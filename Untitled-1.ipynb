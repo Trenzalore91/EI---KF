{
 "cells": [
  {
   "cell_type": "markdown",
   "metadata": {},
   "source": [
    "Section 1 : Librairies"
   ]
  },
  {
   "cell_type": "code",
   "execution_count": null,
   "metadata": {},
   "outputs": [],
   "source": [
    "from math import *\n",
    "from scipy.signal import butter, lfilter\n",
    "from pykalman import KalmanFilter\n",
    "import numpy as np\n",
    "import matplotlib.pyplot as plt\n",
    "import csv"
   ]
  },
  {
   "cell_type": "markdown",
   "metadata": {},
   "source": [
    "Section 2 : Variables"
   ]
  },
  {
   "cell_type": "code",
   "execution_count": null,
   "metadata": {},
   "outputs": [],
   "source": [
    "Time_Sample = 1000 #Nombre d'échantillon\n",
    "\n",
    "#Variables pour un sinus :\n",
    "Sinus_TimeInOperation = 2 #durée du signal sinus [s]\n",
    "Sinus_Frequence = 5 #fréquence du signal sinus [Hz]\n",
    "Sinus_Pulsation = 2 * pi * Sinus_Frequence #pulsation du sinus [rad/s]\n",
    "Sinus_Amplitude = 5 #amplitude du sinus [V]\n",
    "Absicisse_Graph = np.linspace(0, Sinus_TimeInOperation, Time_Sample) #Absicisse du signal\n",
    "\n",
    "#Variables pour le bruit blanc Gaussien :\n",
    "W_Noise_Mean = 0 #Moyenne pour générer le bruit blanc sur base d'une loi Normale\n",
    "W_Noise_STD = 1 #Ecart type pour générer le bruit blanc sur base d'une loi Normale = Valeur RMS du bruit\n",
    "\n",
    "#Variables pour le RC passe-bas :\n",
    "RC_fc = 100 #fréquence de coupure du filtre passe-bas\n",
    "RC_Tau = 1/(2*pi*RC_fc) #constante de temps du filtre passe-bas\n",
    "RC_Ordre = 1 #ordre du filtre passe-bas\n",
    "RC_Normalised_Fc = RC_fc / (Time_Sample/2) #fréquence de coupure normalisée du filtre passe-bas\n",
    "RC_Gain = 1/(1+RC_Tau*RC_Normalised_Fc) #gain du filtre passe-bas\n",
    "\n",
    "#Variables pour le filtre de Kalman :\n",
    "Kalman_A = [[0, -Sinus_Pulsation**2/Time_Sample], [1/Time_Sample , 0]] #matrice de transition de l'état\n",
    "Kalman_B = [[0], [0]] #matrice de contrôle\n",
    "Kalman_C = [[1, 0],[0, Sinus_Pulsation**2/Time_Sample]] #matrice d'observation\n",
    "Kalman_D = [[0]] #matrice de contrôle\n",
    "\n",
    "Kalman_Q = [[1, 0],[0, 1]] #bruit de processus\n",
    "Kalman_R = [1] #bruit de mesure\n",
    "Kalman_P = [[1, 0],[0, 1]] #matrice de covariance de l'état initial\n",
    "\n",
    "Kalman_x0 = [1] #état initial\n",
    "Kalman_P0 = [[1, 0],[0, 1]] #matrice de covariance initiale"
   ]
  },
  {
   "cell_type": "markdown",
   "metadata": {},
   "source": [
    "Section 3 : signaux"
   ]
  },
  {
   "cell_type": "markdown",
   "metadata": {},
   "source": [
    "Section 3.1. : Signal sinusoïdal"
   ]
  },
  {
   "cell_type": "code",
   "execution_count": null,
   "metadata": {},
   "outputs": [],
   "source": [
    "Signal_Sin_Pur = Sinus_Amplitude * np.sin(Sinus_Pulsation * Absicisse_Graph)\n",
    "plt.figure()\n",
    "plt.plot(Absicisse_Graph, Signal_Sin_Pur)\n",
    "plt.title('Signal Sinus Pur')\n",
    "plt.xlabel('Temps [s]')\n",
    "plt.ylabel('Amplitude [V]')\n",
    "plt.show()"
   ]
  },
  {
   "cell_type": "markdown",
   "metadata": {},
   "source": [
    "Section 3.2. : Bruit blanc gaussien"
   ]
  },
  {
   "cell_type": "code",
   "execution_count": null,
   "metadata": {},
   "outputs": [],
   "source": [
    "gaussian_noise = np.random.normal(W_Noise_Mean, W_Noise_STD, Time_Sample)\n",
    "plt.plot(Absicisse_Graph, gaussian_noise)\n",
    "plt.title('Bruit Blanc Gaussien')\n",
    "plt.xlabel('Temps [s]')\n",
    "plt.ylabel('Amplitude [V]')\n",
    "plt.show() "
   ]
  },
  {
   "cell_type": "markdown",
   "metadata": {},
   "source": [
    "Section 3.3. : Sinus bruité"
   ]
  },
  {
   "cell_type": "code",
   "execution_count": null,
   "metadata": {},
   "outputs": [],
   "source": [
    "Sinus_Bruité = Signal_Sin_Pur + gaussian_noise\n",
    "plt.plot(Absicisse_Graph, Sinus_Bruité, label='Signal Sinus Bruité')\n",
    "plt.plot(Absicisse_Graph, Signal_Sin_Pur, 'r', label='Signal Sinus Pur')\n",
    "plt.legend()\n",
    "plt.title('Signal Sinus Bruité')\n",
    "plt.xlabel('Temps [s]')\n",
    "plt.ylabel('Amplitude [V]')\n",
    "plt.show()"
   ]
  },
  {
   "cell_type": "markdown",
   "metadata": {},
   "source": [
    "Section 3.4. : RC passe-bas"
   ]
  },
  {
   "cell_type": "code",
   "execution_count": null,
   "metadata": {},
   "outputs": [],
   "source": [
    "def butter_lowpass_filter(data, cutoff, fs, order):\n",
    "    nyquist = 0.5 * fs\n",
    "    normal_cutoff = cutoff / nyquist\n",
    "    b, a = butter(order, normal_cutoff, btype='low', analog=False)\n",
    "    y = lfilter(b, a, data)\n",
    "    return y\n",
    "\n",
    "Signal_Filtré = butter_lowpass_filter(Sinus_Bruité, RC_fc, Time_Sample, RC_Ordre)\n",
    "\n",
    "# Inspect the shape of Signal_Filtré\n",
    "print(\"Original shape of Signal_Filtré:\", Signal_Filtré.shape)\n",
    "\n",
    "plt.plot(Absicisse_Graph, Signal_Filtré, label='Signal Filtré par RC')\n",
    "plt.plot(Absicisse_Graph, Signal_Sin_Pur, 'r', label='Signal Sinus Pur')\n",
    "plt.legend()\n",
    "plt.title('Signal Filtré')\n",
    "plt.xlabel('Temps [s]')\n",
    "plt.ylabel('Amplitude [V]')\n",
    "plt.show()\n",
    "\n",
    "#export des données en csv\n",
    "with open('data_RCFilter.csv', 'w', newline='') as csvfile:\n",
    "    writer = csv.writer(csvfile)\n",
    "    writer.writerow(['Time', 'Signal_Sin_Pur', 'Signal_Bruité', 'Signal_Filtré'])\n",
    "    for i in range(Time_Sample):\n",
    "        writer.writerow([Absicisse_Graph[i], Signal_Sin_Pur[i], Sinus_Bruité[i], Signal_Filtré[i]])\n",
    "\n",
    "print(\"Export done\")\n",
    "\n",
    "Signal_Filtré = np.reshape(Signal_Filtré, (2, -1))\n",
    "\n",
    "# Inspect the new shape of Signal_Filtré\n",
    "print(\"New shape of Signal_Filtré:\", Signal_Filtré.shape)\n"
   ]
  },
  {
   "cell_type": "markdown",
   "metadata": {},
   "source": [
    "Section 4 : Kalman"
   ]
  },
  {
   "cell_type": "markdown",
   "metadata": {},
   "source": [
    "Section 4.1. Application KF"
   ]
  },
  {
   "cell_type": "code",
   "execution_count": null,
   "metadata": {},
   "outputs": [],
   "source": [
    "#Filtre de Kalman\n",
    "kf = KalmanFilter(transition_matrices=[Kalman_A], observation_matrices=[Kalman_C], transition_covariance=Kalman_Q, observation_covariance=Kalman_R, initial_state_mean=Kalman_x0, initial_state_covariance=Kalman_P0)\n",
    "kf = kf.em(Signal_Filtré, n_iter=10)\n",
    "(filtered_state_means, filtered_state_covariances) = kf.filter(Signal_Filtré)\n",
    "(smoothed_state_means, smoothed_state_covariances) = kf.smooth(Signal_Filtré)\n",
    "\n",
    "plt.plot(Absicisse_Graph, Signal_Filtré[0], label='Signal Filtré par RC')\n",
    "plt.plot(Absicisse_Graph, Signal_Sin_Pur, 'r', label='Signal Sinus Pur')\n",
    "plt.plot(Absicisse_Graph, filtered_state_means[:, 0], 'g', label='Signal Filtré par Filtre de Kalman')\n",
    "plt.legend()\n",
    "plt.title('Signal Filtré par Filtre de Kalman')\n",
    "plt.xlabel('Temps [s]')\n",
    "plt.ylabel('Amplitude [V]')\n",
    "plt.show()\n"
   ]
  }
 ],
 "metadata": {
  "kernelspec": {
   "display_name": "Python 3",
   "language": "python",
   "name": "python3"
  },
  "language_info": {
   "codemirror_mode": {
    "name": "ipython",
    "version": 3
   },
   "file_extension": ".py",
   "mimetype": "text/x-python",
   "name": "python",
   "nbconvert_exporter": "python",
   "pygments_lexer": "ipython3",
   "version": "3.13.1"
  }
 },
 "nbformat": 4,
 "nbformat_minor": 2
}
