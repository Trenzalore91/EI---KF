{
 "cells": [
  {
   "cell_type": "markdown",
   "metadata": {},
   "source": [
    "Code pour l'épreuve intégrée : Implémentation d'un filtre de Kalman afin de réduire le bruit d'un capteur.\n",
    "Réalisé par Alessandro Farina\n",
    "Année 2024-2025\n",
    "\n",
    "Ce code est composé de plusieurs sections:\n",
    "Section 1 : Librairies\n",
    "Section 2 : Variables et fonctions\n",
    "    2.1. Variables\n",
    "    2.2. Fonctions\n",
    "Section 3 : Signaux\n",
    "    3.1. Signal sinusoïdal\n",
    "    3.2. Bruit blanc Gaussien\n",
    "    3.3. Signal sinusoïdal bruité\n",
    "    3.4. Passe-bas #1\n",
    "    3.5. Passe-bas #2\n",
    "Section 4 : Filtre de Kalman\n",
    "Section 5 : HMI (TBC)\n",
    "\n",
    "Sources:\n",
    "math : https://docs.python.org/3/library/math.html\n",
    "matplotlib : https://pypi.org/project/matplotlib/\n",
    "pykalman : https://pypi.org/project/pykalman/\n",
    "scipy : https://pypi.org/project/scipy/\n",
    "numpy : https://pypi.org/project/numpy/\n",
    "csv : https://docs.python.org/fr/3/library/csv.html\n",
    "fft : https://docs.scipy.org/doc/scipy/tutorial/fft.html#fourier-transforms-scipy-fft"
   ]
  },
  {
   "cell_type": "markdown",
   "metadata": {},
   "source": [
    "Section 1 : Librairies"
   ]
  },
  {
   "cell_type": "markdown",
   "metadata": {},
   "source": [
    "math est utilisée pour les fonctions mathématiques (pi, sin)\n",
    "scipy.signal est utilisée pour les filtres (butter = butterworth, lfilter = filtre passe-bas)\n",
    "pykalman ou filterpy.kalman sont utilisées pour le filtre de Kalman\n",
    "numpy est utilisée pour les matrices\n",
    "matplotlib est utilisée pour les graphiques\n",
    "csv est utilisée pour la manipulation des fichiers csv\n",
    "CLASS.py est utilisée pour des objets créés (tel que pour le traitement des filtres)"
   ]
  },
  {
   "cell_type": "code",
   "execution_count": 285,
   "metadata": {},
   "outputs": [],
   "source": [
    "from math import *\n",
    "from scipy.signal import *\n",
    "from pykalman import KalmanFilter as pyKalmanFilter\n",
    "from filterpy.kalman import KalmanFilter\n",
    "import numpy as np\n",
    "import matplotlib.pyplot as plt\n",
    "import csv\n",
    "import tkinter as tk\n",
    "from CLASS import *"
   ]
  },
  {
   "cell_type": "markdown",
   "metadata": {},
   "source": [
    "Section 2 : Variables et fonctions"
   ]
  },
  {
   "cell_type": "markdown",
   "metadata": {},
   "source": [
    "TimeInOperation représente la durée de mesure en seconde\n",
    "Time_Sample représente le nombre d'échantillon\n",
    "Absicisse_Graph représente l'axe des abscisses utilisée dans tous les graphiques"
   ]
  },
  {
   "cell_type": "code",
   "execution_count": 277,
   "metadata": {},
   "outputs": [],
   "source": [
    "TimeInOperation = 10\n",
    "Time_Sample = 10000\n",
    "Absicisse_Graph = np.linspace(0, TimeInOperation, Time_Sample)"
   ]
  },
  {
   "cell_type": "markdown",
   "metadata": {},
   "source": [
    "Variables utilisées pour la génération d'un signal sinusoïdal:\n",
    "    Sinus_Frequence représente la fréquence du signal en Hz\n",
    "    Sinus_Amplitude représente l'amplitude du signal en V"
   ]
  },
  {
   "cell_type": "code",
   "execution_count": 278,
   "metadata": {},
   "outputs": [],
   "source": [
    "Sinus_Frequence = 5\n",
    "Sinus_Amplitude = 3"
   ]
  },
  {
   "cell_type": "markdown",
   "metadata": {},
   "source": [
    "Variables pour la génération du bruit blanc Gaussien (généré suivant une loi Normale):\n",
    "    W_Noise_Mean représente la moyenne\n",
    "    W_Noise_STD représente l'écart-type (soit valeur RMS)"
   ]
  },
  {
   "cell_type": "code",
   "execution_count": 279,
   "metadata": {},
   "outputs": [],
   "source": [
    "W_Noise_Mean = 0\n",
    "W_Noise_STD = 1"
   ]
  },
  {
   "cell_type": "markdown",
   "metadata": {},
   "source": [
    "Variables pour les filtres passe-bas\n",
    "    Filtre_liste permet d'allouer un espace pour l'ajout de plusieurs filtre (généralisation)\n",
    "    Filtre_id permet de connaître l'id (la position) du filtre dans la matrice\n",
    "    Filtre_fc représente la fréquence de coupure du filtre\n",
    "    Filtre_Ordre représente l'ordre du filtre\n",
    "    Filtre_type représente le type de filtre (bas, haut)"
   ]
  },
  {
   "cell_type": "code",
   "execution_count": 280,
   "metadata": {},
   "outputs": [],
   "source": [
    "Filtre_liste = []\n",
    "\n",
    "#Variables pour le RC passe-bas #1:\n",
    "Filtre_id_1 = 0\n",
    "Filtre_fc_1 = 40\n",
    "Filtre_Ordre_1 = 1\n",
    "Filtre_type_1 = 'low'\n",
    "Filtre_gain_1 = 1\n",
    "\n",
    "#Variables pour le RC passe-bas #2:\n",
    "Filtre_id_2 = 0\n",
    "Filtre_fc_2 = 25\n",
    "Filtre_Ordre_2 = 1\n",
    "Filtre_type_2 = 'low'\n",
    "Filtre_gain_2 = 1"
   ]
  },
  {
   "cell_type": "markdown",
   "metadata": {},
   "source": [
    "Variables pour les coefficients de la représentation d'état pour le filtre de Kalman suivant la librairie pykalman\n",
    "    Kalman_A est la matrice de transition de l'état\n",
    "    Kalman_B est la matrice de contrôle\n",
    "    Kalman_C est la matrice d'observation\n",
    "    Kalman_D est la matrice de contrôle\n",
    "    Kalman_Q est le bruit de processus\n",
    "    Kalman_R est le bruit de mesure\n",
    "    Kalman_P est la matrice de covariance de l'état initial\n",
    "    Kalman_x est le vecteur d'état initial    "
   ]
  },
  {
   "cell_type": "code",
   "execution_count": 281,
   "metadata": {},
   "outputs": [],
   "source": [
    "Kalman_A = [[1-((1/Time_Sample)/(2*pi*Filtre_fc_1)), 0], [0, 1-((1/Time_Sample)/(2*pi*Filtre_fc_2))]]\n",
    "Kalman_B = [[(Filtre_gain_1*(1/Time_Sample))/(2*pi*Filtre_fc_1)], [(Filtre_gain_1*(1/Time_Sample))/(2*pi*Filtre_fc_2)]]\n",
    "Kalman_C = [[1, 1]]\n",
    "Kalman_D = [[0]]\n",
    "\n",
    "Kalman_Q = [[W_Noise_STD**2, 0],[0, W_Noise_STD**2]]\n",
    "Kalman_R = np.array([[0.1]]) #[0.1] #[[0.1, 0],[0, 0.1]]\n",
    "Kalman_P = [[W_Noise_STD**2, 0], [0, W_Noise_STD**2]]\n",
    "\n",
    "Kalman_mu = [0, 0]\n",
    "Kalman_Sigma = [[1, 0], [0, 1]]"
   ]
  },
  {
   "cell_type": "markdown",
   "metadata": {},
   "source": [
    "Section 2.2. : Fonctions"
   ]
  },
  {
   "cell_type": "markdown",
   "metadata": {},
   "source": [
    "Fonction pour réaliser un affichage d'un graphique où\n",
    "    on indique le x est l'abscisse, y est l'ordonnée, xlabel est le nom de l'axe OX, ylabel est le titre de l'axe OY, legend est la légende"
   ]
  },
  {
   "cell_type": "code",
   "execution_count": 282,
   "metadata": {},
   "outputs": [],
   "source": [
    "def plot_graph(x, y, title, xlabel, ylabel, legend):\n",
    "    plt.plot(x, y, label=legend)\n",
    "    plt.title(title)\n",
    "    plt.xlabel(xlabel)\n",
    "    plt.ylabel(ylabel)\n",
    "    plt.legend()\n",
    "    plt.show()"
   ]
  },
  {
   "cell_type": "markdown",
   "metadata": {},
   "source": [
    "Fonction pour réaliser un filtre de Butterworth où\n",
    "    signal_a_filtrer est le signal à filtrer\n",
    "    freq_coupure est la fréquence de coupure\n",
    "    fs est la fréquence d'échantillonnage\n",
    "    ordre est l'ordre du filtre\n",
    "    btype est le type de filtre"
   ]
  },
  {
   "cell_type": "code",
   "execution_count": 283,
   "metadata": {},
   "outputs": [
    {
     "data": {
      "text/plain": [
       "'def butter_lowpass_filter(signal_a_filtrer, freq_coupure, fs, ordre, type_filtre):\\n    freq_nyquist = 0.5 * fs\\n    normal_freq_coupure = freq_coupure / freq_nyquist\\n    b, a = butter(ordre, normal_freq_coupure, btype=type_filtre, analog=False)\\n    y = lfilter(b, a, signal_a_filtrer)\\n    return y'"
      ]
     },
     "execution_count": 283,
     "metadata": {},
     "output_type": "execute_result"
    }
   ],
   "source": [
    "\"\"\"def butter_lowpass_filter(signal_a_filtrer, freq_coupure, fs, ordre, type_filtre):\n",
    "    freq_nyquist = 0.5 * fs\n",
    "    normal_freq_coupure = freq_coupure / freq_nyquist\n",
    "    b, a = butter(ordre, normal_freq_coupure, btype=type_filtre, analog=False)\n",
    "    y = lfilter(b, a, signal_a_filtrer)\n",
    "    return y\"\"\""
   ]
  },
  {
   "cell_type": "markdown",
   "metadata": {},
   "source": [
    "Section 3 : Signal d'entrée"
   ]
  },
  {
   "cell_type": "markdown",
   "metadata": {},
   "source": [
    "Section 3.1. : Signal sinusoïdal\n",
    "    Je génère un signal sinusoïdal grâce à la formule : y(t) = A sin(2 * pi * f * t)\n",
    "    Ensuite, je met en graphique le signal sinusoïdal"
   ]
  },
  {
   "cell_type": "code",
   "execution_count": 284,
   "metadata": {},
   "outputs": [
    {
     "ename": "TypeError",
     "evalue": "Signal_Original.__init__() takes 6 positional arguments but 7 were given",
     "output_type": "error",
     "traceback": [
      "\u001b[1;31m---------------------------------------------------------------------------\u001b[0m",
      "\u001b[1;31mTypeError\u001b[0m                                 Traceback (most recent call last)",
      "Cell \u001b[1;32mIn[284], line 1\u001b[0m\n\u001b[1;32m----> 1\u001b[0m Generation_Signal_Entrée \u001b[38;5;241m=\u001b[39m \u001b[43mSignal_Original\u001b[49m\u001b[43m(\u001b[49m\u001b[38;5;124;43m\"\u001b[39;49m\u001b[38;5;124;43msinus\u001b[39;49m\u001b[38;5;124;43m\"\u001b[39;49m\u001b[43m,\u001b[49m\u001b[43m \u001b[49m\u001b[43mSinus_Amplitude\u001b[49m\u001b[43m,\u001b[49m\u001b[43m \u001b[49m\u001b[43mSinus_Frequence\u001b[49m\u001b[43m,\u001b[49m\u001b[43m \u001b[49m\u001b[43mTimeInOperation\u001b[49m\u001b[43m,\u001b[49m\u001b[43m \u001b[49m\u001b[43mTime_Sample\u001b[49m\u001b[43m,\u001b[49m\u001b[43m \u001b[49m\u001b[43mAbsicisse_Graph\u001b[49m\u001b[43m)\u001b[49m\n\u001b[0;32m      3\u001b[0m Signal_Entree \u001b[38;5;241m=\u001b[39m Generation_Signal_Entrée\u001b[38;5;241m.\u001b[39mGeneration_Sinus()\n\u001b[0;32m      4\u001b[0m plot_graph(Absicisse_Graph, Signal_Entree, \u001b[38;5;124m'\u001b[39m\u001b[38;5;124mSignal Sinus\u001b[39m\u001b[38;5;124m'\u001b[39m, \u001b[38;5;124m'\u001b[39m\u001b[38;5;124mTemps [s]\u001b[39m\u001b[38;5;124m'\u001b[39m, \u001b[38;5;124m'\u001b[39m\u001b[38;5;124mAmplitude [V]\u001b[39m\u001b[38;5;124m'\u001b[39m, \u001b[38;5;124m'\u001b[39m\u001b[38;5;124mSignal Sinus\u001b[39m\u001b[38;5;124m'\u001b[39m)\n",
      "\u001b[1;31mTypeError\u001b[0m: Signal_Original.__init__() takes 6 positional arguments but 7 were given"
     ]
    }
   ],
   "source": [
    "Generation_Signal_Entrée = Signal_Original(\"sinus\", Sinus_Amplitude, Sinus_Frequence, TimeInOperation, Time_Sample, Absicisse_Graph)\n",
    "\n",
    "Signal_Entree = Generation_Signal_Entrée.Generation_Sinus()\n",
    "plot_graph(Absicisse_Graph, Signal_Entree, 'Signal Sinus', 'Temps [s]', 'Amplitude [V]', 'Signal Sinus')\n",
    "\n",
    "\n",
    "\"\"\"Signal_Sin_Pur = Sinus_Amplitude * np.sin(2 * pi * Sinus_Frequence * Absicisse_Graph)\n",
    "plot_graph(Absicisse_Graph, Signal_Sin_Pur, 'Signal Sinus Pur', 'Temps [s]', 'Amplitude [V]', 'Signal Sinus Pur')\n",
    "\n",
    "#Signal_Sin_Pur_Matrix = np.column_stack((Absicisse_Graph, Signal_Sin_Pur))\n",
    "\n",
    "#plot_graph(Signal_Sin_Pur_Matrix[:,0], Signal_Sin_Pur_Matrix[:,1], 'Signal Sinus Pur', 'Temps [s]', 'Amplitude [V]', 'Signal Sinus Pur')\n",
    "\n",
    "y_sin_pur_fft = np.fft.fft(Signal_Sin_Pur)\n",
    "x_fft = np.fft.fftfreq(Time_Sample, 1/Time_Sample)[:Time_Sample//2]\n",
    "\n",
    "plot_graph(x_fft, 2.0/Time_Sample * np.abs(y_sin_pur_fft[:Time_Sample//2]), 'FFT Signal Sinus Pur', 'Fréquence [Hz]', 'Amplitude [V]', 'FFT Signal Sinus Pur')\n",
    "\n",
    "Signal_Carré = square(2 * np.pi * Sinus_Frequence * Absicisse_Graph, duty=0.5) * Sinus_Amplitude\n",
    "plot_graph(Absicisse_Graph, Signal_Carré, 'Signal Carré', 'Temps [s]', 'Amplitude [V]', 'Signal Carré')\"\"\""
   ]
  },
  {
   "cell_type": "markdown",
   "metadata": {},
   "source": [
    "Section 3.2. : Bruit blanc Gaussien\n",
    "    Je génère un bruit blanc Gaussien sur base d'une loi Normale telle que N(moyenne, écart-type)\n",
    "    Je met en graphique ce bruit blanc"
   ]
  },
  {
   "cell_type": "code",
   "execution_count": null,
   "metadata": {},
   "outputs": [],
   "source": [
    "gaussian_noise = np.random.normal(W_Noise_Mean, W_Noise_STD, Time_Sample)\n",
    "\n",
    "gaussian_noise_Matrix = np.column_stack((Absicisse_Graph, gaussian_noise))\n",
    "\n",
    "plot_graph(gaussian_noise_Matrix[:,0], gaussian_noise_Matrix[:,1], 'Bruit Blanc Gaussien', 'Temps [s]', 'Amplitude [V]', 'Bruit Blanc Gaussien')\n",
    "\n",
    "y_bruit_fft = np.fft.fft(gaussian_noise)\n",
    "\n",
    "plot_graph(x_fft, 2.0/Time_Sample * np.abs(y_bruit_fft[:Time_Sample//2]), 'FFT Bruit Blanc Gaussien', 'Fréquence [Hz]', 'Amplitude [V]', 'FFT Bruit Blanc Gaussien')"
   ]
  },
  {
   "cell_type": "markdown",
   "metadata": {},
   "source": [
    "Section 3.3. : Signal sinusoïdal bruité\n",
    "    Je génère le signal sinusoïdal bruité en faisant signal_bruité = signal_pur + bruit en tous points"
   ]
  },
  {
   "cell_type": "code",
   "execution_count": null,
   "metadata": {},
   "outputs": [],
   "source": [
    "#Sinus_Bruité = Signal_Sin_Pur + gaussian_noise\n",
    "Sinus_Bruité = Signal_Carré + gaussian_noise\n",
    "\n",
    "Sinus_Bruité_Matrix = np.column_stack((Absicisse_Graph, Sinus_Bruité))\n",
    "\n",
    "plot_graph(Sinus_Bruité_Matrix[:,0], Sinus_Bruité_Matrix[:,1], 'Signal Sinus Bruité', 'Temps [s]', 'Amplitude [V]', 'Signal Sinus Bruité')\n",
    "\n",
    "y_sin_bruit_fft = np.fft.fft(Sinus_Bruité)\n",
    "\n",
    "plot_graph(x_fft, 2.0/Time_Sample * np.abs(y_sin_bruit_fft[:Time_Sample//2]), 'FFT Signal Sinus Bruité', 'Fréquence [Hz]', 'Amplitude [V]', 'FFT Signal Sinus Bruité')"
   ]
  },
  {
   "cell_type": "markdown",
   "metadata": {},
   "source": [
    "Section 3.4. : Passe-bas"
   ]
  },
  {
   "cell_type": "code",
   "execution_count": null,
   "metadata": {},
   "outputs": [],
   "source": [
    "\"\"\"Filtre_1 = filtres_standard(Filtre_type_1)\n",
    "\n",
    "liste_filtre = [Filtre_1] #ajoute en fin de liste le filtre_1\n",
    "\n",
    "Filtre_2 = FILTRE(Filtre_id_2, Filtre_fc_2, Time_Sample, Filtre_Ordre_2, Filtre_type_2, Sinus_Bruité)\n",
    "\n",
    "liste_filtre = [Filtre_2] #ajoute en fin de liste le filtre_2\n",
    "\n",
    "for i in liste_filtre:\n",
    "    plot_graph(Absicisse_Graph, i.calculfiltre(), 'Signal Filtré par RC', 'Temps [s]', 'Amplitude [V]', 'Signal Filtré par RC')\n",
    "\"\"\"\n",
    "#filtre passe-bas Butterworth\n",
    "#Filtre_1 = butter_lowpass_filter(Sinus_Bruité, Filtre_fc_1, Time_Sample, Filtre_Ordre_1, Filtre_type_1)\n",
    "freq_1 = 0.5 * Time_Sample\n",
    "normal_freq_coupure_1 = Filtre_fc_1 / freq_1\n",
    "b_1, a_1 = butter(Filtre_Ordre_1, normal_freq_coupure_1, btype=Filtre_type_1, analog=False)\n",
    "Filtre_1 = lfilter(b_1, a_1, Sinus_Bruité)\n",
    "plot_graph(Absicisse_Graph, Filtre_1, 'Signal Filtré par RC', 'Temps [s]', 'Amplitude [V]', 'Signal Filtré par RC')\n",
    "\n",
    "#filtre passe-bas Butterworth\n",
    "#Filtre_2 = butter_lowpass_filter(Sinus_Bruité, Filtre_fc_2, Time_Sample, Filtre_Ordre_2, Filtre_type_2)\n",
    "freq_2 = 0.5 * Time_Sample\n",
    "normal_freq_coupure_2 = Filtre_fc_2 / freq_2\n",
    "b_2, a_2 = butter(Filtre_Ordre_2, normal_freq_coupure_2, btype=Filtre_type_2, analog=False)\n",
    "Filtre_2 = lfilter(b_2, a_2, Sinus_Bruité)\n",
    "plot_graph(Absicisse_Graph, Filtre_2, 'Signal Filtré par RC', 'Temps [s]', 'Amplitude [V]', 'Signal Filtré par RC')\n",
    "\n",
    "Somme_Filtre = Filtre_1 + Filtre_2\n",
    "plot_graph(Absicisse_Graph, Somme_Filtre, 'Signal Filtré par RCs', 'Temps [s]', 'Amplitude [V]', 'Signal Filtré par RC')"
   ]
  },
  {
   "cell_type": "markdown",
   "metadata": {},
   "source": [
    "Section 4 : Filtre de Kalman"
   ]
  },
  {
   "cell_type": "markdown",
   "metadata": {},
   "source": [
    "4.1. : KF par pyKalmanFilter"
   ]
  },
  {
   "cell_type": "code",
   "execution_count": null,
   "metadata": {},
   "outputs": [],
   "source": [
    "\"\"\"print('A:', Kalman_A)\n",
    "print('B:', Kalman_B)\n",
    "print('C:', Kalman_C)\n",
    "print('D:', Kalman_D)\n",
    "print('Q:', Kalman_Q)\n",
    "print('R:', Kalman_R)\n",
    "print('P:', Kalman_P)\n",
    "print('mu:', Kalman_mu)\n",
    "print('Sigma:', Kalman_Sigma)\n",
    "print('Dimensions A:', np.shape(Kalman_A))\n",
    "print('Dimensions B:', np.shape(Kalman_B))\n",
    "print('Dimensions C:', np.shape(Kalman_C))\n",
    "print('Dimensions D:', np.shape(Kalman_D))\n",
    "print('Dimensions Q:', np.shape(Kalman_Q))\n",
    "print('Dimensions R:', np.shape(Kalman_R))\n",
    "print('Dimensions P:', np.shape(Kalman_P))\n",
    "print('Dimensions mu:', np.shape(Kalman_mu))\n",
    "print('Dimensions Sigma:', np.shape(Kalman_Sigma))\n",
    "print('Dimensions Sinus Bruité:', np.shape(Sinus_Bruité))\n",
    "\"\"\"\n",
    "kf = pyKalmanFilter(transition_matrices = Kalman_A, observation_matrices = Kalman_C, transition_covariance = Kalman_Q, observation_covariance = Kalman_R, initial_state_mean = Kalman_mu, initial_state_covariance = Kalman_P)    #initialisation du filtre de Kalman\n",
    "kf = kf.em(Somme_Filtre, n_iter=5)   #estimation des paramètres du filtre de Kalman\n",
    "(filtered_state_signal, filtered_state_gain) = kf.filter(Somme_Filtre)   #filtrage des données\n",
    "(smoothed_state_means, smoothed_state_covariances) = kf.smooth(Somme_Filtre) #lissage des données"
   ]
  },
  {
   "cell_type": "code",
   "execution_count": null,
   "metadata": {},
   "outputs": [],
   "source": [
    "#print dimensions gain de kalman\n",
    "print(\"Dimensions gain de Kalman:\", np.shape(filtered_state_gain))\n",
    "print(\"Gain de Kalman à chaque étape:\", filtered_state_gain)\n",
    "\n",
    "print(\"Dimensions signal filtré:\", np.shape(filtered_state_signal))\n",
    "print(\"Signal filtré à chaque étape:\", filtered_state_signal)\n",
    "\n",
    "print(\"Dimensions signal lissé:\", np.shape(smoothed_state_means))\n",
    "print(\"Signal lissé à chaque étape:\", smoothed_state_means)\n",
    "\n",
    "#plot le sinus filtré par kalman\n",
    "plt.plot(Absicisse_Graph, Somme_Filtre, label='Signal somme filtre')\n",
    "plt.plot(Absicisse_Graph, filtered_state_signal[:,0], label='Signal filtré par Kalman')\n",
    "#plt.plot(Absicisse_Graph, Signal_Sin_Pur,'r', label='Signal Sinus Pur')\n",
    "plt.title('Signal filtré par Kalman')\n",
    "plt.xlabel('Temps [s]')\n",
    "plt.ylabel('Amplitude [V]')\n",
    "plt.grid(True)\n",
    "plt.legend()\n",
    "plt.show()"
   ]
  },
  {
   "cell_type": "markdown",
   "metadata": {},
   "source": [
    "Section 5: HMI (TBC)"
   ]
  },
  {
   "cell_type": "code",
   "execution_count": null,
   "metadata": {},
   "outputs": [],
   "source": [
    "\"\"\"Exemple:\"\"\"\n",
    "def show_graph():\n",
    "    # Récupération des valeurs saisies dans les champs\n",
    "    var1 = entry1.get()\n",
    "    var2 = entry2.get()\n",
    "    var3 = entry3.get()\n",
    "    \n",
    "    # Récupération de l'option sélectionnée dans la listbox\n",
    "    try:\n",
    "        selection = listbox.get(listbox.curselection())\n",
    "    except tk.TclError:\n",
    "        selection = \"Aucune sélection\"\n",
    "    \n",
    "    # Conversion des valeurs en float (si possible) sinon on leur attribue 0.0\n",
    "    try:\n",
    "        a = float(var1)\n",
    "    except ValueError:\n",
    "        a = 0.0\n",
    "    try:\n",
    "        b = float(var2)\n",
    "    except ValueError:\n",
    "        b = 0.0\n",
    "    try:\n",
    "        c = float(var3)\n",
    "    except ValueError:\n",
    "        c = 0.0\n",
    "    \n",
    "    # Affichage des valeurs dans la console (pour vérification)\n",
    "    print(\"Fréquence du signal :\", a)\n",
    "    print(\"Durée du signal :\", b)\n",
    "    print(\"Type de signal :\", selection)\n",
    "    print(\"Nombre de capteurs :\", c)\n",
    "    \n",
    "    # Exemple de graphique :\n",
    "    # Ici, nous générons une fonction sinus modifiée par les valeurs entrées.\n",
    "    x = np.linspace(0, 10, 300)\n",
    "    y = a * np.sin(b * x) + c  # expression personnalisable\n",
    "    \n",
    "    # Création et affichage du graphique\n",
    "    plt.figure(\"Graphique généré\")\n",
    "    plt.clf()\n",
    "    plt.plot(x, y, label=f'{a}*sin({b}*x)+{c}')\n",
    "    plt.title(\"Graphique généré avec Matplotlib\")\n",
    "    plt.xlabel(\"x\")\n",
    "    plt.ylabel(\"y\")\n",
    "    plt.legend()\n",
    "    plt.grid(True)\n",
    "    plt.show()\n",
    "\n",
    "# Création de la fenêtre principale\n",
    "root = tk.Tk()\n",
    "root.title(\"HMI de démonstration\")\n",
    "\n",
    "# Création des labels et champs de saisie (3 inputs)\n",
    "label1 = tk.Label(root, text=\"Valeur 1:\")\n",
    "label1.grid(row=0, column=0, padx=5, pady=5, sticky=\"w\")\n",
    "entry1 = tk.Entry(root)\n",
    "entry1.grid(row=0, column=1, padx=5, pady=5)\n",
    "\n",
    "label2 = tk.Label(root, text=\"Valeur 2:\")\n",
    "label2.grid(row=1, column=0, padx=5, pady=5, sticky=\"w\")\n",
    "entry2 = tk.Entry(root)\n",
    "entry2.grid(row=1, column=1, padx=5, pady=5)\n",
    "\n",
    "label3 = tk.Label(root, text=\"Valeur 3:\")\n",
    "label3.grid(row=2, column=0, padx=5, pady=5, sticky=\"w\")\n",
    "entry3 = tk.Entry(root)\n",
    "entry3.grid(row=2, column=1, padx=5, pady=5)\n",
    "\n",
    "# Création d'une scrollbox (Listbox) avec scrollbar pour la sélection\n",
    "label_list = tk.Label(root, text=\"Choisir une option:\")\n",
    "label_list.grid(row=3, column=0, padx=5, pady=5, sticky=\"w\")\n",
    "\n",
    "# Frame pour contenir le Listbox et la scrollbar\n",
    "frame_list = tk.Frame(root)\n",
    "frame_list.grid(row=3, column=1, padx=5, pady=5, sticky=\"w\")\n",
    "\n",
    "scrollbar = tk.Scrollbar(frame_list, orient=tk.VERTICAL)\n",
    "listbox = tk.Listbox(frame_list, height=4, yscrollcommand=scrollbar.set)\n",
    "scrollbar.config(command=listbox.yview)\n",
    "scrollbar.pack(side=tk.RIGHT, fill=tk.Y)\n",
    "listbox.pack(side=tk.LEFT, fill=tk.BOTH, expand=True)\n",
    "\n",
    "# Remplissage de la listbox avec des options\n",
    "options = [\"Sinus\", \"Carré\", \"Option 3\", \"Option 4\", \"Option 5\"]\n",
    "for option in options:\n",
    "    listbox.insert(tk.END, option)\n",
    "\n",
    "# Bouton pour afficher le graphique\n",
    "button = tk.Button(root, text=\"Afficher Graphique\", command=show_graph)\n",
    "button.grid(row=4, column=0, columnspan=2, padx=5, pady=10)\n",
    "\n",
    "# Boucle principale de l'interface\n",
    "root.mainloop()\n"
   ]
  },
  {
   "cell_type": "code",
   "execution_count": null,
   "metadata": {},
   "outputs": [],
   "source": [
    "import numpy as np\n",
    "import matplotlib.pyplot as plt\n",
    "from scipy.signal import butter, filtfilt\n",
    "\n",
    "class SensorFusionKalman:\n",
    "    def __init__(self, num_sensors, cutoff, order=1, dt=1.0,\n",
    "                 process_variance=1e-5, measurement_variance=1e-1):\n",
    "        \"\"\"\n",
    "        Objet de fusion de capteurs :\n",
    "          - Chaque capteur est pré-filtré par un filtre passe-bas individuellement.\n",
    "          - Les signaux filtrés sont fusionnés pour former une mesure unique.\n",
    "          - Un filtre de Kalman est appliqué à la mesure fusionnée pour obtenir l'estimation finale.\n",
    "\n",
    "        Paramètres :\n",
    "         * num_sensors          : nombre de capteurs.\n",
    "         * cutoff               : fréquence de coupure normalisée pour le filtre passe-bas.\n",
    "                                  Vous pouvez fournir une seule valeur (appliquée à tous les capteurs)\n",
    "                                  ou une liste de valeurs de longueur num_sensors.\n",
    "         * order                : ordre du filtre Butterworth.\n",
    "         * dt                   : intervalle d'échantillonnage.\n",
    "         * process_variance     : variance du bruit de processus (Kalman).\n",
    "         * measurement_variance : variance du bruit de mesure (Kalman).\n",
    "        \"\"\"\n",
    "        self.num_sensors = num_sensors\n",
    "        self.order = order\n",
    "        self.dt = dt\n",
    "        self.process_variance = process_variance\n",
    "        self.measurement_variance = measurement_variance\n",
    "\n",
    "        if cutoff is None:\n",
    "            raise ValueError(\"La fréquence de coupure 'cutoff' doit être définie.\")\n",
    "        if isinstance(cutoff, (list, tuple)):\n",
    "            if len(cutoff) != num_sensors:\n",
    "                raise ValueError(\"La longueur de la liste 'cutoff' doit être égale à num_sensors.\")\n",
    "            self.cutoff_list = cutoff\n",
    "        else:\n",
    "            self.cutoff_list = [cutoff] * num_sensors\n",
    "\n",
    "        # Calculer pour chaque capteur les coefficients du filtre passe-bas Butterworth.\n",
    "        self.lowpass_filters = [butter(self.order, c, btype='low', analog=False) \n",
    "                                for c in self.cutoff_list]\n",
    "\n",
    "    def filter(self, signals):\n",
    "        \"\"\"\n",
    "        Applique :\n",
    "          1. Un pré-filtrage passe-bas sur chacun des signaux de capteurs (les signaux sont indépendants).\n",
    "          2. La fusion des signaux pré-filtrés (ici moyenne simple).\n",
    "          3. Le filtrage par Kalman sur la mesure fusionnée.\n",
    "\n",
    "        Paramètre :\n",
    "         * signals : tableau ou liste de signaux de forme (num_sensors, n_points)\n",
    "\n",
    "        Retour :\n",
    "         * kalman_estimate : signal estimé (filtré) après fusion.\n",
    "        \"\"\"\n",
    "        signals = np.array(signals)\n",
    "        if signals.shape[0] != self.num_sensors:\n",
    "            raise ValueError(\"Le nombre de signaux doit être égal à num_sensors.\")\n",
    "\n",
    "        # 1. Pré-filtrage de chacun des capteurs\n",
    "        filtered_signals = []\n",
    "        for i in range(self.num_sensors):\n",
    "            b, a = self.lowpass_filters[i]\n",
    "            filtered_sensor = filtfilt(b, a, signals[i])\n",
    "            filtered_signals.append(filtered_sensor)\n",
    "        filtered_signals = np.array(filtered_signals)\n",
    "\n",
    "        # 2. Fusion des signaux (ici la moyenne)\n",
    "        fused_measurement = np.mean(filtered_signals, axis=0)\n",
    "\n",
    "        # 3. Application du filtre de Kalman sur la mesure fusionnée\n",
    "        kalman_estimate = self._kalman_filter(fused_measurement)\n",
    "        return kalman_estimate\n",
    "\n",
    "    def _kalman_filter(self, measurement):\n",
    "        \"\"\"\n",
    "        Implémente un filtre de Kalman simple (modèle 1D) sur la série de mesures fusionnées.\n",
    "        \n",
    "        Paramètre :\n",
    "         * measurement : signal fusionné (1D, tableau numpy)\n",
    "        \n",
    "        Retour :\n",
    "         * x_est : estimation filtrée\n",
    "        \"\"\"\n",
    "        n = len(measurement)\n",
    "        x_est = np.zeros(n)\n",
    "        P = 1.0           # Covariance initiale\n",
    "        Q = self.process_variance  # bruit de processus\n",
    "        R = self.measurement_variance  # bruit de mesure\n",
    "\n",
    "        x_est[0] = measurement[0]\n",
    "        for k in range(1, n):\n",
    "            # Prédiction (modèle : x[k] = x[k-1])\n",
    "            x_pred = x_est[k-1]\n",
    "            P = P + Q\n",
    "            # Correction\n",
    "            K = P / (P + R)\n",
    "            x_est[k] = x_pred + K * (measurement[k] - x_pred)\n",
    "            P = (1 - K) * P\n",
    "        return x_est\n",
    "\n",
    "# -------------------------------------------------------------------------\n",
    "# Exemple d'utilisation\n",
    "if __name__ == \"__main__\":\n",
    "    fs = 1000               # Fréquence d'échantillonnage (Hz)\n",
    "    T = 1.0                 # Durée en secondes\n",
    "    t = np.linspace(0, T, int(fs*T), endpoint=False)\n",
    "    freq_signal = 5         # Fréquence du signal vrai (Hz)\n",
    "    true_signal = np.sin(2 * np.pi * freq_signal * t)\n",
    "\n",
    "    # Simulation de mesures de différents capteurs :\n",
    "    # Chaque capteur mesure le true_signal avec un bruit gaussien différent.\n",
    "    num_sensors = 3\n",
    "    sensor_signals = []\n",
    "    np.random.seed(0)\n",
    "    for i in range(num_sensors):\n",
    "        # Simuler un bruit différent pour chaque capteur (écart-type variant par exemple entre 0.2 et 0.4)\n",
    "        noise_std = 0.2 + 0.1 * i\n",
    "        noise = noise_std * np.random.randn(len(t))\n",
    "        measured_signal = true_signal + noise\n",
    "        sensor_signals.append(measured_signal)\n",
    "\n",
    "    # Paramètre de filtrage passe-bas pour chaque capteur.\n",
    "    # Ici, on utilise le même cutoff (par exemple, 0.1, valeur normalisée).\n",
    "    cutoff_value = 0.1\n",
    "\n",
    "    # Instancier l'objet de fusion avec num_sensors capteurs.\n",
    "    fusion_filtre = SensorFusionKalman(num_sensors=num_sensors, cutoff=cutoff_value, order=3,\n",
    "                                         dt=1/fs, process_variance=1e-5, measurement_variance=0.1)\n",
    "    # Appliquer le traitement de fusion et filtrage\n",
    "    fused_signal = fusion_filtre.filter(sensor_signals)\n",
    "\n",
    "    # Affichage des résultats\n",
    "    plt.figure(figsize=(10, 10))\n",
    "\n",
    "    # 1. Afficher le signal vrai\n",
    "    plt.subplot(411)\n",
    "    plt.plot(t, true_signal, label=\"Signal vrai\", color='black', linewidth=1.5)\n",
    "    plt.title(\"Signal vrai\")\n",
    "    plt.legend()\n",
    "    plt.grid(True)\n",
    "\n",
    "    # 2. Afficher les mesures bruitees de chaque capteur\n",
    "    plt.subplot(412)\n",
    "    colors = ['red', 'green', 'blue']\n",
    "    for i in range(num_sensors):\n",
    "        plt.plot(t, sensor_signals[i], label=f\"Capteur {i+1}\", color=colors[i])\n",
    "    plt.title(\"Mesures des capteurs (bruitées)\")\n",
    "    plt.legend()\n",
    "    plt.grid(True)\n",
    "\n",
    "    # 3. Afficher le résultat du filtrage passe-bas pour chaque capteur\n",
    "    plt.subplot(413)\n",
    "    for i in range(num_sensors):\n",
    "        b, a = fusion_filtre.lowpass_filters[i]\n",
    "        filtered_sensor = filtfilt(b, a, sensor_signals[i])\n",
    "        plt.plot(t, filtered_sensor, label=f\"Filtre LP Capteur {i+1}\", color=colors[i])\n",
    "    plt.title(\"Signaux après filtrage passe-bas\")\n",
    "    plt.legend()\n",
    "    plt.grid(True)\n",
    "\n",
    "    # 4. Afficher le signal fusionné et filtré par Kalman\n",
    "    plt.subplot(414)\n",
    "    plt.plot(t, fused_signal, label=\"Fusion (Kalman)\", color='purple')\n",
    "    plt.title(\"Signal fusionné et filtré (Kalman)\")\n",
    "    plt.legend()\n",
    "    plt.grid(True)\n",
    "\n",
    "    plt.tight_layout()\n",
    "    plt.show()\n"
   ]
  }
 ],
 "metadata": {
  "kernelspec": {
   "display_name": "Python 3",
   "language": "python",
   "name": "python3"
  },
  "language_info": {
   "codemirror_mode": {
    "name": "ipython",
    "version": 3
   },
   "file_extension": ".py",
   "mimetype": "text/x-python",
   "name": "python",
   "nbconvert_exporter": "python",
   "pygments_lexer": "ipython3",
   "version": "3.13.1"
  }
 },
 "nbformat": 4,
 "nbformat_minor": 2
}
