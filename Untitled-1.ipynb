{
 "cells": [
  {
   "cell_type": "markdown",
   "metadata": {},
   "source": [
    "Code pour l'épreuve intégrée : Implémentation d'un filtre de Kalman afin de réduire le bruit d'un capteur.\n",
    "Réalisé par Alessandro Farina\n",
    "Année 2024-2025\n",
    "\n",
    "Ce code est composé de plusieurs sections:\n",
    "Section 1 : Librairies\n",
    "Section 2 : Variables et fonctions\n",
    "    2.1. Variables\n",
    "    2.2. Fonctions\n",
    "Section 3 : Signaux\n",
    "    3.1. Signal sinusoïdal\n",
    "    3.2. Bruit blanc Gaussien\n",
    "    3.3. Signal sinusoïdal bruité\n",
    "    3.4. Passe-bas #1\n",
    "    3.5. Passe-bas #2\n",
    "Section 4 : Filtre de Kalman\n",
    "Section 5 : HMI (TBC)\n",
    "\n",
    "Sources:\n",
    "math : https://docs.python.org/3/library/math.html\n",
    "matplotlib : https://pypi.org/project/matplotlib/\n",
    "pykalman : https://pypi.org/project/pykalman/\n",
    "scipy : https://pypi.org/project/scipy/\n",
    "numpy : https://pypi.org/project/numpy/\n",
    "csv : https://docs.python.org/fr/3/library/csv.html\n",
    "fft : https://docs.scipy.org/doc/scipy/tutorial/fft.html#fourier-transforms-scipy-fft"
   ]
  },
  {
   "cell_type": "markdown",
   "metadata": {},
   "source": [
    "Section 1 : Librairies"
   ]
  },
  {
   "cell_type": "markdown",
   "metadata": {},
   "source": [
    "math est utilisée pour les fonctions mathématiques (pi, sin)\n",
    "scipy.signal est utilisée pour les filtres (butter = butterworth, lfilter = filtre passe-bas)\n",
    "pykalman ou filterpy.kalman sont utilisées pour le filtre de Kalman\n",
    "numpy est utilisée pour les matrices\n",
    "matplotlib est utilisée pour les graphiques\n",
    "csv est utilisée pour la manipulation des fichiers csv\n",
    "CLASS.py est utilisée pour des objets créés (tel que pour le traitement des filtres)"
   ]
  },
  {
   "cell_type": "code",
   "execution_count": null,
   "metadata": {},
   "outputs": [],
   "source": [
    "from math import *\n",
    "from scipy.signal import *\n",
    "from pykalman import KalmanFilter as pyKalmanFilter\n",
    "from filterpy.kalman import KalmanFilter\n",
    "import numpy as np\n",
    "import matplotlib.pyplot as plt\n",
    "import csv\n",
    "import tkinter as tk\n",
    "#from CLASS import *"
   ]
  },
  {
   "cell_type": "markdown",
   "metadata": {},
   "source": [
    "Classes:"
   ]
  },
  {
   "cell_type": "code",
   "execution_count": null,
   "metadata": {},
   "outputs": [],
   "source": [
    "class Signal_Original:\n",
    "    def __init__(self, Signal_Type, Amplitude, Frequence, Durée, Fs, Absicisse_Graph):\n",
    "        self.Signal_Type = Signal_Type.lower()\n",
    "        if self.Signal_Type not in ['sinus', 'carré']:\n",
    "            raise ValueError(\"Type de signal non reconnu. Choisissez 'sinus' ou 'carré'.\")\n",
    "        self.Amplitude = Amplitude\n",
    "        self.Frequence = Frequence\n",
    "        self.Durée = Durée\n",
    "        self.Fs = Fs\n",
    "        self.Absicisse_Graph = Absicisse_Graph\n",
    "    \n",
    "    def GenerationSignal(self):\n",
    "        if (self.Signal_Type == 'sinus'):\n",
    "            signal = self.Amplitude * np.sin(2 * pi * self.Frequence * self.Absicisse_Graph)\n",
    "        elif (self.Signal_Type == 'carré'):\n",
    "            signal = self.Amplitude * square(2 * pi * self.Frequence * self.Absicisse_Graph)\n",
    "        return signal\n",
    "    \n",
    "class SignalFilter:\n",
    "    def __init__(self, signal, filter_type, gain, fc, ordre, fs):\n",
    "        self.signal = signal\n",
    "        self.filter_type = filter_type.lower()\n",
    "        self.gain = gain\n",
    "        self.ordre = ordre\n",
    "        self.fc = fc\n",
    "        self.fs = fs        \n",
    "\n",
    "        if self.filter_type not in ['passe-bas', 'kalman']:\n",
    "            raise ValueError(\"Type de filtre non reconnu. Choisissez 'passe-bas' ou 'kalman'.\")\n",
    "\n",
    "    def Filtre_passe_bas(self):\n",
    "        freq_nyquist = 0.5 * self.fs\n",
    "        normal_freq_coupure = self.fc / freq_nyquist\n",
    "        b, a = butter(self.ordre, normal_freq_coupure, btype='low', analog=False)\n",
    "        y = self.gain * lfilter(b, a, self.signal)\n",
    "        return y\n",
    "\n",
    "    #def _kalman_filter(self):"
   ]
  },
  {
   "cell_type": "markdown",
   "metadata": {},
   "source": [
    "Section 2 : Variables et fonctions"
   ]
  },
  {
   "cell_type": "markdown",
   "metadata": {},
   "source": [
    "TimeInOperation représente la durée de mesure en seconde\n",
    "Time_Sample représente le nombre d'échantillon\n",
    "Absicisse_Graph représente l'axe des abscisses utilisée dans tous les graphiques"
   ]
  },
  {
   "cell_type": "code",
   "execution_count": null,
   "metadata": {},
   "outputs": [],
   "source": [
    "TimeInOperation = 10\n",
    "Time_Sample = 10000\n",
    "Absicisse_Graph = np.linspace(0, TimeInOperation, Time_Sample)"
   ]
  },
  {
   "cell_type": "markdown",
   "metadata": {},
   "source": [
    "Variables utilisées pour la génération d'un signal sinusoïdal:\n",
    "    Sinus_Frequence représente la fréquence du signal en Hz\n",
    "    Sinus_Amplitude représente l'amplitude du signal en V"
   ]
  },
  {
   "cell_type": "code",
   "execution_count": null,
   "metadata": {},
   "outputs": [],
   "source": [
    "Sinus_Frequence = 5\n",
    "Sinus_Amplitude = 3"
   ]
  },
  {
   "cell_type": "markdown",
   "metadata": {},
   "source": [
    "Variables pour la génération du bruit blanc Gaussien (généré suivant une loi Normale):\n",
    "    W_Noise_Mean représente la moyenne\n",
    "    W_Noise_STD représente l'écart-type (soit valeur RMS)"
   ]
  },
  {
   "cell_type": "code",
   "execution_count": null,
   "metadata": {},
   "outputs": [],
   "source": [
    "W_Noise_Mean = 0\n",
    "W_Noise_STD = 1"
   ]
  },
  {
   "cell_type": "markdown",
   "metadata": {},
   "source": [
    "Variables pour les filtres passe-bas\n",
    "    Filtre_liste permet d'allouer un espace pour l'ajout de plusieurs filtre (généralisation)\n",
    "    Filtre_id permet de connaître l'id (la position) du filtre dans la matrice\n",
    "    Filtre_fc représente la fréquence de coupure du filtre\n",
    "    Filtre_Ordre représente l'ordre du filtre\n",
    "    Filtre_type représente le type de filtre (bas, haut)"
   ]
  },
  {
   "cell_type": "code",
   "execution_count": null,
   "metadata": {},
   "outputs": [],
   "source": [
    "Filtre_liste = []\n",
    "\n",
    "#Variables pour le RC passe-bas #1:\n",
    "Filtre_id_1 = 1\n",
    "Filtre_fc_1 = 40\n",
    "Filtre_Ordre_1 = 1\n",
    "Filtre_type_1 = 'passe-bas'\n",
    "Filtre_gain_1 = 1\n",
    "\n",
    "Filtre_liste.append([Filtre_id_1, Filtre_fc_1, Filtre_Ordre_1, Filtre_type_1, Filtre_gain_1])\n",
    "\n",
    "#Variables pour le RC passe-bas #2:\n",
    "Filtre_id_2 = 2\n",
    "Filtre_fc_2 = 25\n",
    "Filtre_Ordre_2 = 1\n",
    "Filtre_type_2 = 'passe-bas'\n",
    "Filtre_gain_2 = 1\n",
    "\n",
    "Filtre_liste.append([Filtre_id_2, Filtre_fc_2, Filtre_Ordre_2, Filtre_type_2, Filtre_gain_2])"
   ]
  },
  {
   "cell_type": "markdown",
   "metadata": {},
   "source": [
    "Variables pour les coefficients de la représentation d'état pour le filtre de Kalman suivant la librairie pykalman\n",
    "    Kalman_A est la matrice de transition de l'état (on réalise d'abord un vecteur composé de la formule (1-((1/Time_Sample)/(2*pi*Filtre_liste[i][1]))) avec laquelle on diagonalise pour obtenir une matrice diagonale - la dimension dépend de la quantité de capteur mais non hard-codé)\n",
    "    Kalman_B est la matrice de contrôle\n",
    "    Kalman_C est la matrice d'observation\n",
    "    Kalman_D est la matrice de contrôle\n",
    "    Kalman_Q est le bruit de processus\n",
    "    Kalman_R est le bruit de mesure\n",
    "    Kalman_P est la matrice de covariance de l'état initial\n",
    "    Kalman_x est le vecteur d'état initial    "
   ]
  },
  {
   "cell_type": "code",
   "execution_count": null,
   "metadata": {},
   "outputs": [],
   "source": [
    "diag_values_Kalman_A = np.array([(1-((1/Time_Sample)/(2*pi*Filtre_liste[i][1]))) for i in range(len(Filtre_liste))])\n",
    "Kalman_A = np.diag(diag_values_Kalman_A)\n",
    "\n",
    "Kalman_B=[]\n",
    "for i in range(len(Filtre_liste)):\n",
    "    nouvelle_ligne = np.array([(Filtre_liste[i][4]*(1/Time_Sample))/(2*pi*Filtre_liste[i][1])])\n",
    "    Kalman_B = np.append(Kalman_B, nouvelle_ligne)\n",
    "\n",
    "#Kalman_B = [[(Filtre_gain_1*(1/Time_Sample))/(2*pi*Filtre_fc_1)], [(Filtre_gain_1*(1/Time_Sample))/(2*pi*Filtre_fc_2)]]\n",
    "\n",
    "Kalman_C = np.ones(len(Filtre_liste))\n",
    "Kalman_D = [[0]]\n",
    "\n",
    "Kalman_Q = np.eye(len(Filtre_liste)) * W_Noise_STD**2\n",
    "Kalman_R = np.array([[0.1]])\n",
    "Kalman_P = np.eye(len(Filtre_liste)) * W_Noise_STD**2\n",
    "\n",
    "Kalman_mu = [0, 0]\n",
    "Kalman_Sigma = np.eye(len(Filtre_liste))"
   ]
  },
  {
   "cell_type": "markdown",
   "metadata": {},
   "source": [
    "Section 2.2. : Fonctions"
   ]
  },
  {
   "cell_type": "markdown",
   "metadata": {},
   "source": [
    "Fonction pour réaliser un affichage d'un graphique où\n",
    "    on indique le x est l'abscisse, y est l'ordonnée, xlabel est le nom de l'axe OX, ylabel est le titre de l'axe OY, legend est la légende"
   ]
  },
  {
   "cell_type": "code",
   "execution_count": null,
   "metadata": {},
   "outputs": [],
   "source": [
    "def plot_graph(x, y, title, xlabel, ylabel, legend):\n",
    "    plt.plot(x, y, label=legend)\n",
    "    plt.title(title)\n",
    "    plt.xlabel(xlabel)\n",
    "    plt.ylabel(ylabel)\n",
    "    plt.legend()\n",
    "    plt.show()"
   ]
  },
  {
   "cell_type": "markdown",
   "metadata": {},
   "source": [
    "Fonction pour réaliser un filtre de Butterworth où\n",
    "    signal_a_filtrer est le signal à filtrer\n",
    "    freq_coupure est la fréquence de coupure\n",
    "    fs est la fréquence d'échantillonnage\n",
    "    ordre est l'ordre du filtre\n",
    "    btype est le type de filtre"
   ]
  },
  {
   "cell_type": "code",
   "execution_count": null,
   "metadata": {},
   "outputs": [],
   "source": [
    "\"\"\"def butter_lowpass_filter(signal_a_filtrer, freq_coupure, fs, ordre, type_filtre):\n",
    "    freq_nyquist = 0.5 * fs\n",
    "    normal_freq_coupure = freq_coupure / freq_nyquist\n",
    "    b, a = butter(ordre, normal_freq_coupure, btype=type_filtre, analog=False)\n",
    "    y = lfilter(b, a, signal_a_filtrer)\n",
    "    return y\"\"\""
   ]
  },
  {
   "cell_type": "markdown",
   "metadata": {},
   "source": [
    "Section 3 : Signal d'entrée"
   ]
  },
  {
   "cell_type": "markdown",
   "metadata": {},
   "source": [
    "Section 3.1. : Signal sinusoïdal\n",
    "    Je génère un signal sinusoïdal ou carré en fonction du paramètre de l'objet\n",
    "    Ensuite, je met en graphique le signal d'entrée"
   ]
  },
  {
   "cell_type": "code",
   "execution_count": null,
   "metadata": {},
   "outputs": [],
   "source": [
    "Generation_Signal_Entrée = Signal_Original(\"SINUS\", Sinus_Amplitude, Sinus_Frequence, TimeInOperation, Time_Sample, Absicisse_Graph)\n",
    "Signal_Entree = Generation_Signal_Entrée.GenerationSignal()\n",
    "plot_graph(Absicisse_Graph, Signal_Entree, 'Signal Sinus', 'Temps [s]', 'Amplitude [V]', 'Signal Sinus')"
   ]
  },
  {
   "cell_type": "markdown",
   "metadata": {},
   "source": [
    "Section 3.2. : Bruit blanc Gaussien\n",
    "    Je génère un bruit blanc Gaussien sur base d'une loi Normale telle que N(moyenne, écart-type)\n",
    "    Je met en graphique ce bruit blanc"
   ]
  },
  {
   "cell_type": "code",
   "execution_count": null,
   "metadata": {},
   "outputs": [],
   "source": [
    "gaussian_noise = np.random.normal(W_Noise_Mean, W_Noise_STD, Time_Sample)\n",
    "plot_graph(Absicisse_Graph, gaussian_noise, 'Bruit Blanc Gaussien', 'Temps [s]', 'Amplitude [V]', 'Bruit Blanc Gaussien')"
   ]
  },
  {
   "cell_type": "markdown",
   "metadata": {},
   "source": [
    "Section 3.3. : Signal sinusoïdal bruité\n",
    "    Je génère le signal sinusoïdal bruité en faisant signal_bruité = signal_pur + bruit en tous points"
   ]
  },
  {
   "cell_type": "code",
   "execution_count": null,
   "metadata": {},
   "outputs": [],
   "source": [
    "Signal_Bruité = Signal_Entree + gaussian_noise\n",
    "plot_graph(Absicisse_Graph, Signal_Bruité, 'Signal Sinus Bruité', 'Temps [s]', 'Amplitude [V]', 'Signal Sinus Bruité')"
   ]
  },
  {
   "cell_type": "markdown",
   "metadata": {},
   "source": [
    "Section 3.4. : Passe-bas"
   ]
  },
  {
   "cell_type": "code",
   "execution_count": null,
   "metadata": {},
   "outputs": [],
   "source": [
    "for i in range(len(Filtre_liste)):\n",
    "    Filtre_id = Filtre_liste[i][0]\n",
    "    Filtre_fc = Filtre_liste[i][1]\n",
    "    Filtre_Ordre = Filtre_liste[i][2]\n",
    "    Filtre_type = Filtre_liste[i][3]\n",
    "    Filtre_gain = Filtre_liste[i][4]\n",
    "    Filtre = SignalFilter(Signal_Bruité, Filtre_type, Filtre_gain, Filtre_fc, Filtre_Ordre, Time_Sample)\n",
    "    Filtre.Filtre_passe_bas()\n",
    "    plot_graph(Absicisse_Graph, Filtre.Filtre_passe_bas(), \"Signal Filtré par RC\", 'Temps [s]', 'Amplitude [V]', 'Signal Filtré par RC ' + str(Filtre_id))\n",
    "    Somme_Filtre += Filtre.Filtre_passe_bas()\n",
    "\n",
    "Somme_Filtre = Somme_Filtre / len(Filtre_liste)\n",
    "plot_graph(Absicisse_Graph, Somme_Filtre, 'Moyenne des signaux filtrés', 'Temps [s]', 'Amplitude [V]', 'Signal Filtré par RC')"
   ]
  },
  {
   "cell_type": "markdown",
   "metadata": {},
   "source": [
    "Section 4 : Filtre de Kalman"
   ]
  },
  {
   "cell_type": "markdown",
   "metadata": {},
   "source": [
    "4.1. : KF par pyKalmanFilter"
   ]
  },
  {
   "cell_type": "code",
   "execution_count": null,
   "metadata": {},
   "outputs": [],
   "source": [
    "\"\"\"print('A:', Kalman_A)\n",
    "print('B:', Kalman_B)\n",
    "print('C:', Kalman_C)\n",
    "print('D:', Kalman_D)\n",
    "print('Q:', Kalman_Q)\n",
    "print('R:', Kalman_R)\n",
    "print('P:', Kalman_P)\n",
    "print('mu:', Kalman_mu)\n",
    "print('Sigma:', Kalman_Sigma)\n",
    "print('Dimensions A:', np.shape(Kalman_A))\n",
    "print('Dimensions B:', np.shape(Kalman_B))\n",
    "print('Dimensions C:', np.shape(Kalman_C))\n",
    "print('Dimensions D:', np.shape(Kalman_D))\n",
    "print('Dimensions Q:', np.shape(Kalman_Q))\n",
    "print('Dimensions R:', np.shape(Kalman_R))\n",
    "print('Dimensions P:', np.shape(Kalman_P))\n",
    "print('Dimensions mu:', np.shape(Kalman_mu))\n",
    "print('Dimensions Sigma:', np.shape(Kalman_Sigma))\n",
    "print('Dimensions Sinus Bruité:', np.shape(Sinus_Bruité))\n",
    "\"\"\"\n",
    "kf = pyKalmanFilter(transition_matrices = Kalman_A, observation_matrices = Kalman_C, transition_covariance = Kalman_Q, observation_covariance = Kalman_R, initial_state_mean = Kalman_mu, initial_state_covariance = Kalman_P)    #initialisation du filtre de Kalman\n",
    "kf = kf.em(Somme_Filtre, n_iter=5)   #estimation des paramètres du filtre de Kalman\n",
    "(filtered_state_signal, filtered_state_gain) = kf.filter(Somme_Filtre)   #filtrage des données\n",
    "(smoothed_state_means, smoothed_state_covariances) = kf.smooth(Somme_Filtre) #lissage des données"
   ]
  },
  {
   "cell_type": "code",
   "execution_count": null,
   "metadata": {},
   "outputs": [],
   "source": [
    "\"\"\"#print dimensions gain de kalman\n",
    "print(\"Dimensions gain de Kalman:\", np.shape(filtered_state_gain))\n",
    "print(\"Gain de Kalman à chaque étape:\", filtered_state_gain)\n",
    "\n",
    "print(\"Dimensions signal filtré:\", np.shape(filtered_state_signal))\n",
    "print(\"Signal filtré à chaque étape:\", filtered_state_signal)\n",
    "\n",
    "print(\"Dimensions signal lissé:\", np.shape(smoothed_state_means))\n",
    "print(\"Signal lissé à chaque étape:\", smoothed_state_means)\n",
    "\n",
    "#plot le sinus filtré par kalman\n",
    "plt.plot(Absicisse_Graph, Somme_Filtre, label='Signal somme filtre')\n",
    "plt.plot(Absicisse_Graph, filtered_state_signal[:,0], label='Signal filtré par Kalman')\n",
    "#plt.plot(Absicisse_Graph, Signal_Sin_Pur,'r', label='Signal Sinus Pur')\n",
    "plt.title('Signal filtré par Kalman')\n",
    "plt.xlabel('Temps [s]')\n",
    "plt.ylabel('Amplitude [V]')\n",
    "plt.grid(True)\n",
    "plt.legend()\n",
    "plt.show()\"\"\""
   ]
  },
  {
   "cell_type": "markdown",
   "metadata": {},
   "source": [
    "Section 5: HMI (TBC)"
   ]
  },
  {
   "cell_type": "code",
   "execution_count": null,
   "metadata": {},
   "outputs": [],
   "source": [
    "def show_graph():\n",
    "    # Récupération des valeurs saisies dans les champs\n",
    "    var1 = entry1.get()\n",
    "    var2 = entry2.get()\n",
    "    var3 = entry3.get()\n",
    "    \n",
    "    # Récupération de l'option sélectionnée dans la listbox\n",
    "    try:\n",
    "        selection = listbox.get(listbox.curselection())\n",
    "    except tk.TclError:\n",
    "        selection = \"Aucune sélection\"\n",
    "    \n",
    "    # Conversion des valeurs en float (si possible) sinon on leur attribue 0.0\n",
    "    try:\n",
    "        a = float(var1)\n",
    "    except ValueError:\n",
    "        a = 0.0\n",
    "    try:\n",
    "        b = float(var2)\n",
    "    except ValueError:\n",
    "        b = 0.0\n",
    "    try:\n",
    "        c = float(var3)\n",
    "    except ValueError:\n",
    "        c = 0.0\n",
    "    \n",
    "    # Affichage des valeurs dans la console (pour vérification)\n",
    "    print(\"Fréquence du signal :\", a)\n",
    "    print(\"Durée du signal :\", b)\n",
    "    print(\"Type de signal :\", selection)\n",
    "    print(\"Nombre de capteurs :\", c)\n",
    "    \n",
    "    # Exemple de graphique :\n",
    "    # Ici, nous générons une fonction sinus modifiée par les valeurs entrées.\n",
    "    x = np.linspace(0, 10, 300)\n",
    "    y = a * np.sin(b * x) + c  # expression personnalisable\n",
    "    \n",
    "    # Création et affichage du graphique\n",
    "    plt.figure(\"Graphique généré\")\n",
    "    plt.clf()\n",
    "    plt.plot(x, y, label=f'{a}*sin({b}*x)+{c}')\n",
    "    plt.title(\"Graphique généré avec Matplotlib\")\n",
    "    plt.xlabel(\"x\")\n",
    "    plt.ylabel(\"y\")\n",
    "    plt.legend()\n",
    "    plt.grid(True)\n",
    "    plt.show()\n",
    "\n",
    "# Création de la fenêtre principale\n",
    "root = tk.Tk()\n",
    "root.title(\"HMI - Implémentation d'un filtre de Kalman afin de réduire le bruit d'un capteur\")\n",
    "\"\"\"\n",
    "#place un scrollbar sur la fenetre\n",
    "canvas = tk.Canvas(root)\n",
    "canvas.pack(side=\"left\", fill=\"both\", expand=True)\n",
    "scrollbar = tk.Scrollbar(root, orient=\"vertical\", command=canvas.yview)\n",
    "scrollbar.pack(side=\"right\", fill=\"y\")\n",
    "\n",
    "canvas.configure(yscrollcommand=scrollbar.set)\n",
    "frame = tk.Frame(canvas)\n",
    "canvas.create_window((0, 0), window=frame, anchor=\"nw\")\n",
    "\"\"\"\n",
    "\n",
    "# Création des labels et champs de saisie pour la durée de fonctionnement\n",
    "label_TimeInOperation = tk.Label(root, text=\"Temps de fonctionnement total [s]:\")\n",
    "label_TimeInOperation.grid(row=0, column=0, padx=5, pady=5, sticky=\"w\")\n",
    "entry_TimeInOperation = tk.Entry(root)\n",
    "entry_TimeInOperation.grid(row=0, column=1, padx=5, pady=5)\n",
    "\n",
    "label_Time_Sample = tk.Label(root, text=\"Fréquence d'échantillonnage [Hz]:\")\n",
    "label_Time_Sample.grid(row=1, column=0, padx=5, pady=5, sticky=\"w\")\n",
    "entry_Time_Sample = tk.Entry(root)\n",
    "entry_Time_Sample.grid(row=1, column=1, padx=5, pady=5)\n",
    "\n",
    "# Création d'une scrollbox (Listbox) avec scrollbar pour la sélection\n",
    "label_list_Signal_Entree_Type = tk.Label(root, text=\"Choisir un signal d'entée:\")\n",
    "label_list_Signal_Entree_Type.grid(row=2, column=0, padx=5, pady=5, sticky=\"w\")\n",
    "\n",
    "# Frame pour contenir le Listbox et la scrollbar\n",
    "frame_list = tk.Frame(root)\n",
    "frame_list.grid(row=2, column=1, padx=5, pady=5, sticky=\"w\")\n",
    "\n",
    "scrollbar = tk.Scrollbar(frame_list, orient=tk.VERTICAL)\n",
    "listbox = tk.Listbox(frame_list, height=2, yscrollcommand=scrollbar.set)\n",
    "scrollbar.config(command=listbox.yview)\n",
    "scrollbar.pack(side=tk.RIGHT, fill=tk.Y)\n",
    "listbox.pack(side=tk.LEFT, fill=tk.BOTH, expand=True)\n",
    "\n",
    "# Remplissage de la listbox avec des options\n",
    "options_Signal_Entree_Type = [\"Sinus\", \"Carré\"]\n",
    "for option in options_Signal_Entree_Type:\n",
    "    listbox.insert(tk.END, option)\n",
    "\n",
    "# Création des labels et champs de saisie pour le signal d'entrée\n",
    "label_Signal_Entree_Freq = tk.Label(root, text=\"Fréquence signal d'entrée [Hz]:\")\n",
    "label_Signal_Entree_Freq.grid(row=3, column=0, padx=5, pady=5, sticky=\"w\")\n",
    "entry_Signal_Entree_Freq = tk.Entry(root)\n",
    "entry_Signal_Entree_Freq.grid(row=3, column=1, padx=5, pady=5)\n",
    "\n",
    "label_Signal_Entree_Amplitude = tk.Label(root, text=\"Amplitude signal d'entrée [V]:\")\n",
    "label_Signal_Entree_Amplitude.grid(row=4, column=0, padx=5, pady=5, sticky=\"w\")\n",
    "entry_Signal_Entree_Amplitude = tk.Entry(root)\n",
    "entry_Signal_Entree_Amplitude.grid(row=4, column=1, padx=5, pady=5)\n",
    "\n",
    "# Création des labels et champs de saisie pour le bruit blanc Gaussien\n",
    "label_Bruit_moyenne = tk.Label(root, text=\"Moyenne du bruit blanc Gaussien:\")\n",
    "label_Bruit_moyenne.grid(row=5, column=0, padx=5, pady=5, sticky=\"w\")\n",
    "entry_Bruit_moyenne = tk.Entry(root)\n",
    "entry_Bruit_moyenne.grid(row=5, column=1, padx=5, pady=5)\n",
    "\n",
    "label_Bruit_Ecarttype = tk.Label(root, text=\"Écart-type du bruit blanc Gaussien:\")\n",
    "label_Bruit_Ecarttype.grid(row=6, column=0, padx=5, pady=5, sticky=\"w\")\n",
    "entry_Bruit_Ecarttype = tk.Entry(root)\n",
    "entry_Bruit_Ecarttype.grid(row=6, column=1, padx=5, pady=5)\n",
    "\n",
    "# Création des labels et champs de saisie pour les filtres\n",
    "label_Filtre_Quantité = tk.Label(root, text=\"Quantité de capteur:\")\n",
    "label_Filtre_Quantité.grid(row=7, column=0, padx=5, pady=5, sticky=\"w\")\n",
    "entry_Filtre_Quantité = tk.Entry(root)\n",
    "entry_Filtre_Quantité.grid(row=7, column=1, padx=5, pady=5)\n",
    "\n",
    "# Bouton pour afficher le graphique\n",
    "button = tk.Button(root, text=\"Afficher Graphique\", command=show_graph)\n",
    "button.grid(row=10, column=0, columnspan=2, padx=5, pady=10)\n",
    "\n",
    "# Boucle principale de l'interface\n",
    "root.mainloop()\n"
   ]
  }
 ],
 "metadata": {
  "kernelspec": {
   "display_name": "Python 3",
   "language": "python",
   "name": "python3"
  },
  "language_info": {
   "codemirror_mode": {
    "name": "ipython",
    "version": 3
   },
   "file_extension": ".py",
   "mimetype": "text/x-python",
   "name": "python",
   "nbconvert_exporter": "python",
   "pygments_lexer": "ipython3",
   "version": "3.13.1"
  }
 },
 "nbformat": 4,
 "nbformat_minor": 2
}
